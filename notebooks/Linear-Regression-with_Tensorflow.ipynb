{
 "cells": [
  {
   "cell_type": "code",
   "execution_count": 1,
   "metadata": {
    "collapsed": true
   },
   "outputs": [],
   "source": [
    "# Import packages\n",
    "import os\n",
    "\n",
    "import h5py\n",
    "import matplotlib.pyplot as plt\n",
    "import numpy as np\n",
    "import seaborn as sns\n",
    "import tensorflow as tf\n",
    "\n",
    "%matplotlib inline\n",
    "plt.style.use(\"fivethirtyeight\")\n",
    "sns.set_context(\"notebook\")\n",
    "plt.rcParams[\"figure.figsize\"] = (12, 6)"
   ]
  },
  {
   "cell_type": "code",
   "execution_count": 2,
   "metadata": {
    "collapsed": true
   },
   "outputs": [],
   "source": [
    "class TfLinReg(object):\n",
    "    \"\"\"\n",
    "    Implementing linear regression using computational graph with tensorflow.\n",
    "    It's based on Batch Gradient Descent\n",
    "    \"\"\"\n",
    "    def __init__(self, learning_rate=0.001, x_dim=None, seed=None):\n",
    "        \"\"\"\n",
    "        Initialize instance of class TfLinReg.\n",
    "\n",
    "        Arguments:\n",
    "        learning_rate -- step size gradient descent makes on each iteration\n",
    "                         --> scalar.\n",
    "        x_dim -- number of features of the input data --> scalar.\n",
    "        seed -- used to get consistent output.\n",
    "        \"\"\"\n",
    "        self.x_dim = x_dim\n",
    "        self.learning_rate = learning_rate\n",
    "        self.g = tf.Graph()\n",
    "\n",
    "        # Initialize the graph\n",
    "        with self.g.as_default():\n",
    "            # Setup the seed to get consistent results\n",
    "            tf.set_random_seed(seed)\n",
    "            # Build the graph\n",
    "            self.build()\n",
    "            # Initialize the global variables\n",
    "            self.init = tf.global_variables_initializer()\n",
    "\n",
    "    def build(self):\n",
    "        \"\"\"\n",
    "        Build computational graph.\n",
    "        \"\"\"\n",
    "\n",
    "        self.X = tf.placeholder(dtype=tf.float32,\n",
    "                                shape=(None, self.x_dim),\n",
    "                                name=\"X\")\n",
    "        self.Y = tf.placeholder(dtype=tf.float32,\n",
    "                                shape=None,\n",
    "                                name=\"Y\")\n",
    "        print(self.X)\n",
    "        print(self.Y)\n",
    "        self.weights = tf.Variable(initial_value=tf.zeros((self.x_dim, 1)),\n",
    "                                   dtype=tf.float32,\n",
    "                                   name=\"weights\")\n",
    "        self.bias = tf.Variable(initial_value=tf.zeros((1, 1)),\n",
    "                                dtype=tf.float32,\n",
    "                                name=\"bias\")\n",
    "        print(self.weights)\n",
    "        print(self.bias)\n",
    "        self.z = tf.squeeze(tf.add(tf.multiply(self.X, self.weights),\n",
    "                            self.bias), name=\"output\")\n",
    "        print(self.z)\n",
    "        square_error = tf.square(self.z - self.Y, name=\"square_error\")\n",
    "        self.mean_cost = tf.reduce_mean(square_error, name=\"mean_cost\")\n",
    "        print(square_error)\n",
    "        print(self.mean_cost)\n",
    "        self.optimizer = tf.train.GradientDescentOptimizer(\n",
    "            self.learning_rate).minimize(self.mean_cost)\n",
    "\n",
    "    def train_linreg(self, X_train, Y_train, num_epochs=100):\n",
    "        \"\"\"\n",
    "        Train the learning algorithm to get the optimal weights and bias.\n",
    "\n",
    "        Arguments:\n",
    "        X_train -- input data, shape: number of examples x number of features.\n",
    "        Y_train -- label vector, shape: number of examples.\n",
    "        num_epochs -- number of iteration the learning algorithm goes through\n",
    "                      --> scalar.\n",
    "\n",
    "        Returns:\n",
    "        costs -- training mean squared error for every iteration --> list\n",
    "        \"\"\"\n",
    "        self.sess = tf.Session(graph=self.g)\n",
    "        self.sess.run(self.init)\n",
    "        costs = []\n",
    "\n",
    "        for epoch in range(num_epochs):\n",
    "            _, cost = self.sess.run([self.optimizer, self.mean_cost],\n",
    "                                    feed_dict={self.X: X_train,\n",
    "                                               self.Y: Y_train})\n",
    "\n",
    "            costs.append(cost)\n",
    "\n",
    "        return costs\n",
    "\n",
    "    def get_weights(self):\n",
    "        \"\"\"\n",
    "        Get the optimal weight after training.\n",
    "        \"\"\"\n",
    "        w = self.sess.run(self.weights)\n",
    "\n",
    "        return w\n",
    "\n",
    "    def get_bias(self):\n",
    "        \"\"\"\n",
    "        Get the optimal bias after training.\n",
    "        \"\"\"\n",
    "        b = self.sess.run(self.bias)\n",
    "\n",
    "        return b\n",
    "\n",
    "    def predict_linreg(self, X_test):\n",
    "        \"\"\"\n",
    "        Performs prediction on inputs provided using optimal weights and bias.\n",
    "\n",
    "        Arguments:\n",
    "        X_test -- test examples.\n",
    "\n",
    "        Returns:\n",
    "        pred -- predictions using test examples.\n",
    "        \"\"\"\n",
    "        pred = self.sess.run(self.z, feed_dict={self.X: X_test})\n",
    "\n",
    "        return pred"
   ]
  },
  {
   "cell_type": "code",
   "execution_count": 3,
   "metadata": {},
   "outputs": [
    {
     "data": {
      "text/plain": [
       "((10, 1), (10,))"
      ]
     },
     "execution_count": 3,
     "metadata": {},
     "output_type": "execute_result"
    }
   ],
   "source": [
    "X_train = np.arange(10)[:, np.newaxis]\n",
    "Y_train = np.array([1, 1.3, 3.1, 2, 5, 6.3, 6.6, 7.4, 8, 9])\n",
    "X_train.shape, Y_train.shape"
   ]
  },
  {
   "cell_type": "code",
   "execution_count": 4,
   "metadata": {},
   "outputs": [
    {
     "name": "stdout",
     "output_type": "stream",
     "text": [
      "Tensor(\"X:0\", shape=(?, 1), dtype=float32)\n",
      "Tensor(\"Y:0\", dtype=float32)\n",
      "<tf.Variable 'weights:0' shape=(1, 1) dtype=float32_ref>\n",
      "<tf.Variable 'bias:0' shape=(1, 1) dtype=float32_ref>\n",
      "Tensor(\"output:0\", dtype=float32)\n",
      "Tensor(\"square_error:0\", dtype=float32)\n",
      "Tensor(\"mean_cost:0\", dtype=float32)\n"
     ]
    }
   ],
   "source": [
    "model = TfLinReg(learning_rate=0.01, x_dim=X_train.shape[1])"
   ]
  },
  {
   "cell_type": "code",
   "execution_count": 5,
   "metadata": {},
   "outputs": [
    {
     "data": {
      "image/png": "[encoded data removed]",
      "text/plain": [
       "<matplotlib.figure.Figure at 0x11d41eef0>"
      ]
     },
     "metadata": {},
     "output_type": "display_data"
    }
   ],
   "source": [
    "cost = model.train_linreg(X_train, Y_train, num_epochs=100)\n",
    "plt.plot(cost);"
   ]
  },
  {
   "cell_type": "code",
   "execution_count": 6,
   "metadata": {},
   "outputs": [
    {
     "data": {
      "image/png": "[encoded data removed]",
      "text/plain": [
       "<matplotlib.figure.Figure at 0x109ffda58>"
      ]
     },
     "metadata": {},
     "output_type": "display_data"
    }
   ],
   "source": [
    "# Plot training data and best fit line\n",
    "pred = model.predict_linreg(X_train)\n",
    "plt.scatter(X_train, Y_train, label=\"Training data\", color=\"g\")\n",
    "plt.plot(X_train, pred, color=\"red\", marker=\"s\", markersize=6, linewidth=3, label=\"Linear regression model\")\n",
    "plt.legend(loc=\"upper left\");"
   ]
  }
 ],
 "metadata": {
  "kernelspec": {
   "display_name": "Python 3",
   "language": "python",
   "name": "python3"
  },
  "language_info": {
   "codemirror_mode": {
    "name": "ipython",
    "version": 3
   },
   "file_extension": ".py",
   "mimetype": "text/x-python",
   "name": "python",
   "nbconvert_exporter": "python",
   "pygments_lexer": "ipython3",
   "version": "3.6.1"
  }
 },
 "nbformat": 4,
 "nbformat_minor": 2
}
