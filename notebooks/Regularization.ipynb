{
 "cells": [
  {
   "cell_type": "markdown",
   "metadata": {},
   "source": [
    "<h1 style=\"font-family: Georgia; font-size:3em;color:#2462C0; font-style:bold\">\n",
    "Coding Neural Network - Regularization\n",
    "</h1><br>"
   ]
  },
  {
   "cell_type": "markdown",
   "metadata": {},
   "source": [
    "<h2 style=\"font-family: Georgia; font-size:2em;color:purple; font-style:bold\">\n",
    "Bias-Variance Trade-off\n",
    "</h2>\n",
    "<p align=\"center\">\n",
    "<img src=\"images/bias_variance_v2.png\" style=\"height:400px; width:600px\">\n",
    "<caption><center><u><b><font color=\"purple\">Figure 1:</font></b></u> Bias and variance as a function of model complexity (flexibility). [Source](http://scott.fortmann-roe.com/docs/BiasVariance.html)</center></caption>\n",
    "</p>\n",
    "\n",
    "Generalization (test) error is the most important metric in Machine/Deep Learning. It gives us an estimate on the performance of the model on unseen data. Test error is decomposed into 3 parts (see figure 1): **Variance, Squared-Bias, and Irreducible Error**. Models with high bias are not complex enough (too simple) for the data and tend to underfit. The simplest model is taking the average (mode) of target variable and assign it to all predictions. On the contrary, models with high variance overfit the training data by closely follow (mimick) the training data where the learning algorithm will follow the signal and the noise. Note that as the complexity (flexibility) of the model increases → the model will become less interpretable such as Neural Networks. Below is the bias-variance decomposition:\n",
    "$$MSE = E(y - \\widehat{y})^2\\\\{}$$\n",
    "$$= E(y - f + f - \\widehat{y})^2\\\\{}$$\n",
    "$$= E\\big\\{(y - f)^2 + 2(y - f)(f - \\widehat{y}) + (f - \\widehat{y})^2\\big\\};\\quad substitute\\ y = f + \\epsilon\\\\{}$$\n",
    "$$= E\\big\\{(\\epsilon + f - f)^2 + 2(\\epsilon + f - f)(f - \\widehat{y}) + (f - \\widehat{y})^2\\big\\}\\\\{}$$\n",
    "$$= E(\\epsilon)^2 + E(\\epsilon)E(f - \\widehat{y}) + E(f - \\widehat{y})^2; \\quad where\\ E(\\epsilon) = 0\\\\{}$$\n",
    "$$= E(\\epsilon)^2 + E(f - \\widehat{y})^2;\\quad add\\ and\\ subtract\\ E(\\widehat{y})\\\\{}$$\n",
    "$$= E(\\epsilon)^2 + E(f - E(\\widehat{y}) + E(\\widehat{y}) - \\widehat{y})^2\\\\{}$$\n",
    "$$= E(\\epsilon)^2 + E(f - E(\\widehat{y}))^2 + E(\\widehat{y} - E(\\widehat{y}))^2\\\\{}$$\n",
    "$$\\Rightarrow MSE = var(\\widehat{y}) + (Bias(\\widehat{y}))^2 + var(\\epsilon)\\\\{}$$\n",
    "Where:\n",
    "- $var(\\epsilon)$: Irreducible error that resulted from omitted features and unmeasured variation with each example.\n",
    "- $Bias(\\widehat{y})$: Error that is introduced by approximating a real-life problem with a simple model.\n",
    "- $var(\\widehat{y})$: amount by which $\\widehat{y}$ would change if we estimated it using different data set.\n",
    "\n",
    "Therefore, we can control only the variance and the bias of the $\\widehat{y}$ **BUT NOT** irreducible error. As a result, our job is to try to estimate the right level of complexity to achieve the lowest test error."
   ]
  },
  {
   "cell_type": "markdown",
   "metadata": {},
   "source": [
    "<h2 style=\"font-family: Georgia; font-size:2em;color:purple; font-style:bold\">\n",
    "Regularization\n",
    "</h2><br>\n",
    "Regularization adds stability to the learning algorithm by making it less sensitive to the training data and processes. Since we don't know and have no access to the true function that we can use to compare our estimated function with it, the best strategy would be to build a very complex model that fits the training data really well (overfitting) and regularize it so that it would have a good generalization (test) error. When using regularization, we try to reduce the generalization error and that may lead to increase the training error in the process which is okay because what we care about is how well the model generalizes. With regularization, we try to bring back the very complex model that suffers from overfitting to a good model by increasing bias and reducing variance. This builds on the assumption that complex model has large parameters and simple model has small parameters.\n",
    "\n",
    "Below are some methods used for regularization:\n",
    "1. **L2 Parameter Regularization**: It's also known as **weight decay**. This method adds L2 norm penalty to the objective function to drive the weights towards the origin. Even though this method shrinks all weights by the same proportion towards zero; however, it will never make any weight to be exactly zero.\n",
    "2. **L1 Parameter Regularization (Lasso)**: It can be seen as a feature selection method because; in contrast to L2 regularization, some weights will be actually zero. It shrinks all weights by the same amount by adding L1 norm penalty to the objective function.\n",
    "3. **Dropout**: Dropout can be seen as an approximation to bagging techniques. On each iteration, we randomly shut down some neurons on each layer and don't use those neurons in both forward propagation and back-propagation. This will force the neural network to spread out weights and not focus on specific neurons because it will never know which neurons will show up on each iteration. Therefore, it can be seen as training different model on each iteration. Also, since we drop some neurons on each iteration, this will lead to smaller network which in turns means simpler network.\n",
    "4. **Augmentation**: Add fake data by using the training examples and adding distortions to them such as rescaling and rotating the images in the case of image recognition. The idea here is that it's always better to train the model on more data to achieve better performance. Note that augmented examples don't add much information to the model as much as independent examples do but still it's a valid alternative when collecting more data is not feasible.\n",
    "5. **Early Stopping**: This method tries to optimize the cost function and regularize it so that it would have lower generalization error. The way it works is that on each iteration we record the validation error. If the validation error improves, we store a copy of the parameters and will continue until the optimization algorithm terminates. It's a good method if computational time and resources is an issue for us.\n",
    "\n",
    "In this notebook, we'll cover L2 parameter regularization."
   ]
  },
  {
   "cell_type": "markdown",
   "metadata": {},
   "source": [
    "<h2 style=\"font-family: Georgia; font-size:2em;color:purple; font-style:bold\">\n",
    "L2 Parameter Regularization\n",
    "</h2>"
   ]
  },
  {
   "cell_type": "markdown",
   "metadata": {},
   "source": [
    "We normally don't regularize bias and regularize weights only. We can use hessian matrix and it's eigenvalues and eigenvectors to see the sensitivity of the weights to the weight decay. The weight $w_i$ will be rescaled using $\\frac{\\lambda_i}{\\lambda_i + \\alpha}$ where $\\lambda_i$ (eigenvalue) measures the sensitivity of hessian matrix in that direction (eigenvector) and $\\alpha$ is the regularized hyperparameter. Therefore,\n",
    "- If $\\lambda_i >> \\alpha$, the cost function is very sensitive in that direction and the corresponding weight reduces the cost significantly $\\Rightarrow$ don't decay (shrink) much.\n",
    "- If $\\lambda_i << \\alpha$, the cost function is not sensitive in that direction and the corresponding weight doesn't reduce the cost significantly $\\Rightarrow$ decay (shrink) away towards zero.\n",
    "\n",
    "The objective function (binary cross-entropy) would then change from:\n",
    "$$J = -\\frac{1}{m} \\sum\\limits_{i = 1}^{m} \\large{(}\\small  y^{(i)}\\log\\left(a^{[L](i)}\\right) + (1-y^{(i)})\\log\\left(1- a^{[L](i)}\\right) \\large{)} \\tag{1}$$\n",
    "To:\n",
    "$$J_{regularized} = \\small \\underbrace{-\\frac{1}{m} \\sum\\limits_{i = 1}^{m} \\large{(}\\small y^{(i)}\\log\\left(a^{[L](i)}\\right) + (1-y^{(i)})\\log\\left(1- a^{[L](i)}\\right) \\large{)} }_\\text{cross-entropy cost} + \\underbrace{\\frac{1}{m} \\frac{\\lambda}{2} \\sum\\limits_{l=1}^L\\sum\\limits_{i=1}^{n^l}\\sum\\limits_{j=1}^{n^{l-1}} W_{j,i}^{[l]2} }_\\text{L2 regularization cost} \\tag{2}$$\n",
    "Also, the new gradients and the update equation would be:\n",
    "$$\\nabla_w J_{regularized} = \\nabla_w J + \\frac{\\lambda}{m}w\\\\{}$$\n",
    "$$w = w - \\alpha\\nabla_w J - \\alpha\\frac{\\lambda}{m}w\\\\{}$$\n",
    "$$\\Rightarrow w = w\\underbrace{(1 - \\alpha\\frac{\\lambda}{m})}_\\text{weight decay} - \\nabla J$$\n",
    "Note that here $\\alpha$ is the learning rate and $\\lambda$ is the regularized hyperparameter. As $\\lambda$ increases, the bias increases (and the model becomes less flexible) with the following extreme cases (see figure 2):\n",
    "- $\\lambda = 0$, no regularization.\n",
    "- $\\lambda \\rightarrow \\infty$, model becomes very simple where all weights are essentially zero. In the case of regression, we would end-up with the intercept only which is equal to the average of the target variable.\n",
    "\n",
    "<p align=\"center\">\n",
    "<img src=\"images/bias_variance_lambda.png\" style=\"height:400px; width:600px\">\n",
    "<caption><center><u><b><font color=\"purple\">Figure 2:</font></b></u> Model complexity (underfitting/overfitting) as a function of regularization parameter $\\lambda$</center></caption>\n",
    "</p>\n",
    "It sometimes maybe helpful to see how L2 parameter regularization works using normal equation. The normal quation is:\n",
    "$$W = (X^TX + \\lambda I)^{-1}X^TY\\tag{3}$$\n",
    "This means that:\n",
    "- Adding $\\lambda$ to the variance would decrease the weight since $w_i = \\frac{cov_{x, y}}{\\sigma^2_x}$.\n",
    "- Even if $X^TX$ is not invertible, adding $\\lambda$ to each feature will make it full rank matrix $\\Rightarrow$ invertible.\n",
    "\n",
    "To illustrate how regularization helps us reduce generalization error, we'll use the cats_vs_dogs dataset. The dataset has images for cats and dogs. We'll try to build a neural network to classify if the image has a cat or a dog. Each image is 64 x 64 pixels on RGB scale.\n",
    "\n",
    "We'll be using functions we wrote in [*\"Coding Neural Network - Forward Propagation and Backpropagation\"*](https://nbviewer.jupyter.org/github/ImadDabbura/blog-posts/blob/master/notebooks/Coding-Neural-Network-Forwad-Back-Propagation.ipynb) notebook to initialize parameters, compute forward propagation, cross-entropy cost, gradients, etc.\n",
    "\n",
    "Let's import the data and take a look at the shape as well as a sample of a cat image from the training set."
   ]
  },
  {
   "cell_type": "code",
   "execution_count": 1,
   "metadata": {
    "code_folding": [
     0
    ]
   },
   "outputs": [
    {
     "name": "stderr",
     "output_type": "stream",
     "text": [
      "/anaconda3/lib/python3.6/site-packages/h5py/__init__.py:34: FutureWarning: Conversion of the second argument of issubdtype from `float` to `np.floating` is deprecated. In future, it will be treated as `np.float64 == np.dtype(float).type`.\n",
      "  from ._conv import register_converters as _register_converters\n"
     ]
    }
   ],
   "source": [
    "# Loading packages\n",
    "import sys\n",
    "\n",
    "import h5py\n",
    "import matplotlib.pyplot as plt\n",
    "import numpy as np\n",
    "import seaborn as sns\n",
    "\n",
    "sys.path.append(\"../scripts/\")\n",
    "from coding_neural_network_from_scratch import (initialize_parameters,\n",
    "                                                L_model_forward,\n",
    "                                                compute_cost,\n",
    "                                                relu_gradient,\n",
    "                                                sigmoid_gradient,\n",
    "                                                tanh_gradient,\n",
    "                                                update_parameters,\n",
    "                                                accuracy)\n",
    "from gradient_checking import dictionary_to_vector\n",
    "from load_dataset import load_dataset_catvsdog\n",
    "\n",
    "%matplotlib inline\n",
    "sns.set_context(\"notebook\")\n",
    "plt.style.use(\"fivethirtyeight\")\n",
    "plt.rcParams['figure.figsize'] = (12, 6)"
   ]
  },
  {
   "cell_type": "code",
   "execution_count": 2,
   "metadata": {
    "code_folding": [
     0
    ]
   },
   "outputs": [
    {
     "name": "stdout",
     "output_type": "stream",
     "text": [
      "Training data dimensions:\n",
      "X's dimension: (12288, 209), Y's dimension: (1, 209)\n",
      "Test data dimensions:\n",
      "X's dimension: (12288, 50), Y's dimension: (1, 50)\n"
     ]
    },
    {
     "data": {
      "image/png": "[encoded data removed]",
      "text/plain": [
       "<matplotlib.figure.Figure at 0x10f6bbe10>"
      ]
     },
     "metadata": {},
     "output_type": "display_data"
    }
   ],
   "source": [
    "# Import training data\n",
    "train_dataset = h5py.File(\"../data/train_catvnoncat.h5\")\n",
    "X_train = np.array(train_dataset[\"train_set_x\"])\n",
    "Y_train = np.array(train_dataset[\"train_set_y\"])\n",
    "\n",
    "# Plot a sample image\n",
    "plt.imshow(X_train[50])\n",
    "plt.axis(\"off\");\n",
    "\n",
    "# Import test data\n",
    "test_dataset = h5py.File(\"../data/test_catvnoncat.h5\")\n",
    "X_test = np.array(test_dataset[\"test_set_x\"])\n",
    "Y_test = np.array(test_dataset[\"test_set_y\"])\n",
    "\n",
    "# Transform data\n",
    "X_train = X_train.reshape(209, -1).T\n",
    "X_train = X_train / 255\n",
    "Y_train = Y_train.reshape(-1, 209)\n",
    "\n",
    "X_test = X_test.reshape(50, -1).T\n",
    "X_test = X_test / 255\n",
    "Y_test = Y_test.reshape(-1, 50)\n",
    "\n",
    "# print the new shape of both training and test datasets\n",
    "print(\"Training data dimensions:\")\n",
    "print(\"X's dimension: {}, Y's dimension: {}\".format(X_train.shape, Y_train.shape))\n",
    "print(\"Test data dimensions:\")\n",
    "print(\"X's dimension: {}, Y's dimension: {}\".format(X_test.shape, Y_test.shape))"
   ]
  },
  {
   "cell_type": "markdown",
   "metadata": {},
   "source": [
    "The training set has 209 examples and the test set has 50 examples. Let's first write all the helper functions that would help us write the multi-layer neural network."
   ]
  },
  {
   "cell_type": "code",
   "execution_count": 3,
   "metadata": {
    "code_folding": [
     0,
     39,
     77,
     117,
     161
    ]
   },
   "outputs": [],
   "source": [
    "def compute_cost_reg(AL, y, parameters, lambd=0):\n",
    "    \"\"\"\n",
    "    Computes the Cross-Entropy cost function with L2 regularization.\n",
    "\n",
    "    Arguments\n",
    "    ---------\n",
    "    AL : 2d-array\n",
    "        probability vector of shape 1 x training_examples.\n",
    "    y : 2d-array\n",
    "        true \"label\" vector.\n",
    "    parameters : dict\n",
    "        contains all the weight matrices and bias vectors for all layers.\n",
    "    lambd : float\n",
    "        regularization hyperparameter.\n",
    "\n",
    "    Returns\n",
    "    -------\n",
    "    cost : float\n",
    "        binary cross-entropy cost.\n",
    "    \"\"\"\n",
    "    # number of examples\n",
    "    m = y.shape[1]\n",
    "\n",
    "    # compute traditional cross entropy cost\n",
    "    cross_entropy_cost = compute_cost(AL, y)\n",
    "\n",
    "    # convert parameters dictionary to vector\n",
    "    parameters_vector = dictionary_to_vector(parameters)\n",
    "\n",
    "    # compute the regularization penalty\n",
    "    L2_regularization_penalty = (\n",
    "        lambd / (2 * m)) * np.sum(np.square(parameters_vector))\n",
    "\n",
    "    # compute the total cost\n",
    "    cost = cross_entropy_cost + L2_regularization_penalty\n",
    "\n",
    "    return cost\n",
    "\n",
    "\n",
    "def linear_backword_reg(dZ, cache, lambd=0):\n",
    "    \"\"\"\n",
    "    Computes the gradient of the output w.r.t weight, bias, & post-activation\n",
    "    output of (l - 1) layers at layer l.\n",
    "    \n",
    "    Arguments\n",
    "    ---------\n",
    "    dZ : 2d-array\n",
    "        gradient of the cost w.r.t. the linear output (of current layer l).\n",
    "    cache : tuple\n",
    "        values of (A_prev, W, b) coming from the forward propagation in the\n",
    "        current layer.\n",
    "    lambd : float\n",
    "        regularization hyperparameter.\n",
    "\n",
    "    Returns\n",
    "    -------\n",
    "    dA_prev : 2d-array\n",
    "        gradient of the cost w.r.t. the activation (of the previous layer l-1).\n",
    "    dW : 2d-array\n",
    "        gradient of the cost w.r.t. W (current layer l).\n",
    "    db : 2d-array\n",
    "        gradient of the cost w.r.t. b (current layer l).\n",
    "    \"\"\"\n",
    "    A_prev, W, b = cache\n",
    "    m = A_prev.shape[1]\n",
    "\n",
    "    dW = (1 / m) * np.dot(dZ, A_prev.T) + (lambd / m) * W\n",
    "    db = (1 / m) * np.sum(dZ, axis=1, keepdims=True)\n",
    "    dA_prev = np.dot(W.T, dZ)\n",
    "\n",
    "    assert (dA_prev.shape == A_prev.shape)\n",
    "    assert (dW.shape == W.shape)\n",
    "    assert (db.shape == b.shape)\n",
    "\n",
    "    return dA_prev, dW, db\n",
    "\n",
    "\n",
    "def linear_activation_backward_reg(dA, cache, activation_fn=\"relu\", lambd=0):\n",
    "    \"\"\"\n",
    "    Arguments\n",
    "    ---------\n",
    "    dA : 2d-array\n",
    "        post-activation gradient for current layer l.\n",
    "    cache : tuple\n",
    "        values of (linear_cache, activation_cache).\n",
    "    activation : str\n",
    "        activation used in this layer: \"sigmoid\", \"tanh\", or \"relu\".\n",
    "    lambd : float\n",
    "        regularization hyperparameter.\n",
    "\n",
    "    Returns\n",
    "    -------\n",
    "    dA_prev : 2d-array\n",
    "        gradient of the cost w.r.t. the activation (of previous layer l-1),\n",
    "        same shape as A_prev.\n",
    "    dW : 2d-array\n",
    "        gradient of the cost w.r.t. W (current layer l), same shape as W.\n",
    "    db : 2d-array\n",
    "        gradient of the cost w.r.t. b (current layer l), same shape as b.\n",
    "    \"\"\"\n",
    "    linear_cache, activation_cache = cache\n",
    "\n",
    "    if activation_fn == \"sigmoid\":\n",
    "        dZ = sigmoid_gradient(dA, activation_cache)\n",
    "        dA_prev, dW, db = linear_backword_reg(dZ, linear_cache, lambd)\n",
    "\n",
    "    elif activation_fn == \"tanh\":\n",
    "        dZ = tanh_gradient(dA, activation_cache)\n",
    "        dA_prev, dW, db = linear_backword_reg(dZ, linear_cache, lambd)\n",
    "\n",
    "    elif activation_fn == \"relu\":\n",
    "        dZ = relu_gradient(dA, activation_cache)\n",
    "        dA_prev, dW, db = linear_backword_reg(dZ, linear_cache, lambd)\n",
    "\n",
    "    return dA_prev, dW, db\n",
    "\n",
    "\n",
    "def L_model_backward_reg(AL, y, caches, hidden_layers_activation_fn=\"relu\",\n",
    "                         lambd=0):\n",
    "    \"\"\"\n",
    "    Computes the gradient of output layer w.r.t weights, biases, etc. starting\n",
    "    on the output layer in reverse topological order.\n",
    "    \n",
    "    Arguments\n",
    "    ---------\n",
    "    AL : 2d-array\n",
    "        probability vector, output of the forward propagation\n",
    "        (L_model_forward()).\n",
    "    y : 2d-array\n",
    "        true \"label\" vector (containing 0 if non-cat, 1 if cat).\n",
    "    caches : list\n",
    "        list of caches for all layers.\n",
    "    hidden_layers_activation_fn :\n",
    "        activation function used on hidden layers: \"tanh\", \"relu\".\n",
    "    lambd : float\n",
    "        regularization hyperparameter.\n",
    "\n",
    "    Returns\n",
    "    -------\n",
    "    grads : dict\n",
    "        gradients.\n",
    "    \"\"\"\n",
    "    y = y.reshape(AL.shape)\n",
    "    L = len(caches)\n",
    "    grads = {}\n",
    "\n",
    "    dAL = np.divide(AL - y, np.multiply(AL, 1 - AL))\n",
    "\n",
    "    grads[\"dA\" + str(L - 1)], grads[\"dW\" + str(L)], grads[\"db\" + str(L)] =\\\n",
    "        linear_activation_backward_reg(dAL, caches[L - 1], \"sigmoid\", lambd)\n",
    "\n",
    "    for l in range(L - 1, 0, -1):\n",
    "        current_cache = caches[l - 1]\n",
    "        grads[\"dA\" + str(l - 1)], grads[\"dW\" + str(l)], grads[\"db\" + str(l)] =\\\n",
    "            linear_activation_backward_reg(\n",
    "                grads[\"dA\" + str(l)], current_cache,\n",
    "                hidden_layers_activation_fn, lambd)\n",
    "\n",
    "    return grads\n",
    "\n",
    "\n",
    "def model_with_regularization(\n",
    "        X, y, layers_dims, learning_rate=0.01,  num_epochs=3000,\n",
    "        print_cost=False, hidden_layers_activation_fn=\"relu\", lambd=0):\n",
    "    \"\"\"\n",
    "    Implements L-Layer neural network.\n",
    "\n",
    "    Arguments\n",
    "    ---------\n",
    "    X : 2d-array\n",
    "        data, shape: number of examples x num_px * num_px * 3.\n",
    "    y : 2d-array\n",
    "        true \"label\" vector, shape: 1 x number of examples.\n",
    "    layers_dims : list\n",
    "        input size and size of each layer, length: number of layers + 1.\n",
    "    learning_rate : float\n",
    "        learning rate of the gradient descent update rule.\n",
    "     num_epochs : int\n",
    "        number of times to over the training data.\n",
    "    print_cost : bool\n",
    "        if True, it prints the cost every 100 steps.\n",
    "    hidden_layers_activation_fn : str\n",
    "        activation function to be used on hidden layers: \"tanh\", \"relu\".\n",
    "    lambd : float\n",
    "        regularization hyperparameter.\n",
    "\n",
    "    Returns\n",
    "    -------\n",
    "    parameters : dict\n",
    "        parameters learnt by the model. They can then be used to predict test\n",
    "        examples.\n",
    "    \"\"\"\n",
    "    # get number of examples\n",
    "    m = X.shape[1]\n",
    "\n",
    "    # to get consistents output\n",
    "    np.random.seed(1)\n",
    "\n",
    "    # initialize parameters\n",
    "    parameters = initialize_parameters(layers_dims)\n",
    "\n",
    "    # intialize cost list\n",
    "    cost_list = []\n",
    "\n",
    "    # implement gradient descent\n",
    "    for i in range(num_epochs):\n",
    "        # compute forward propagation\n",
    "        AL, caches = L_model_forward(\n",
    "            X, parameters, hidden_layers_activation_fn)\n",
    "\n",
    "        # compute regularized cost\n",
    "        reg_cost = compute_cost_reg(AL, y, parameters, lambd)\n",
    "\n",
    "        # compute gradients\n",
    "        grads = L_model_backward_reg(\n",
    "            AL, y, caches, hidden_layers_activation_fn, lambd)\n",
    "\n",
    "        # update parameters\n",
    "        parameters = update_parameters(parameters, grads, learning_rate)\n",
    "\n",
    "        # print cost\n",
    "        if (i + 1) % 100 == 0 and print_cost:\n",
    "            print(\"The cost after {} iterations: {}\".format(\n",
    "                (i + 1), reg_cost))\n",
    "\n",
    "        # append cost\n",
    "        if i % 100 == 0:\n",
    "            cost_list.append(reg_cost)\n",
    "\n",
    "    # plot the cost curve\n",
    "    plt.plot(cost_list)\n",
    "    plt.xlabel(\"Iterations (per hundreds)\")\n",
    "    plt.ylabel(\"Cost\")\n",
    "    plt.title(\"Cost curve for the learning rate = {}\".format(learning_rate))\n",
    "\n",
    "    return parameters"
   ]
  },
  {
   "cell_type": "markdown",
   "metadata": {},
   "source": [
    "Now we're ready to train the neural network. We'll first build a neural network with no regularization and then one with regularization to see which one has lower generalization error. Note that $\\lambda$ should be tuned to get the best results but we'll here choose an arbitrary value to illustrate the concept. Both neural netwotks would have 2 hidden layers where each hidden layer has 5 units."
   ]
  },
  {
   "cell_type": "code",
   "execution_count": 4,
   "metadata": {
    "collapsed": true
   },
   "outputs": [
    {
     "name": "stdout",
     "output_type": "stream",
     "text": [
      "The cost after 100 iterations: 0.6555634398145331\n",
      "The cost after 200 iterations: 0.6467746423961933\n",
      "The cost after 300 iterations: 0.6446638811282552\n",
      "The cost after 400 iterations: 0.6441400737542232\n",
      "The cost after 500 iterations: 0.6440063101787575\n",
      "The cost after 600 iterations: 0.6439697872317176\n",
      "The cost after 700 iterations: 0.6439570623358253\n",
      "The cost after 800 iterations: 0.6439491872993496\n",
      "The cost after 900 iterations: 0.6439407592837082\n",
      "The cost after 1000 iterations: 0.6439294591543208\n",
      "The cost after 1100 iterations: 0.6439131091764411\n",
      "The cost after 1200 iterations: 0.6438883396380859\n",
      "The cost after 1300 iterations: 0.6438489715870495\n",
      "The cost after 1400 iterations: 0.6437825798034876\n",
      "The cost after 1500 iterations: 0.6436617691190204\n",
      "The cost after 1600 iterations: 0.6434191397054715\n",
      "The cost after 1700 iterations: 0.642864008138056\n",
      "The cost after 1800 iterations: 0.6413476000796884\n",
      "The cost after 1900 iterations: 0.6360827945885947\n",
      "The cost after 2000 iterations: 0.6124050450908987\n",
      "The cost after 2100 iterations: 0.511236045905345\n",
      "The cost after 2200 iterations: 0.5287658028657057\n",
      "The cost after 2300 iterations: 0.43124104856359174\n",
      "The cost after 2400 iterations: 0.38213869447364884\n",
      "The cost after 2500 iterations: 0.3386708692392079\n",
      "The training accuracy rate: 82.30%.\n",
      "The test accuracy rate: 78.00%.\n"
     ]
    },
    {
     "data": {
      "image/png": "[encoded data removed]",
      "text/plain": [
       "<matplotlib.figure.Figure at 0x109473da0>"
      ]
     },
     "metadata": {},
     "output_type": "display_data"
    }
   ],
   "source": [
    "# set up layers dimensions\n",
    "layers_dims = [X_train.shape[0], 5, 5, 1]\n",
    "\n",
    "# train NN\n",
    "parameters = model_with_regularization(X_train, Y_train, layers_dims,\n",
    "                                       learning_rate=0.03, num_epochs=2500, print_cost=True,\n",
    "                                       hidden_layers_activation_fn=\"tanh\",\n",
    "                                       lambd=0)\n",
    "\n",
    "# print the test accuracy\n",
    "print(\"The training accuracy rate: {}\".format(accuracy(X_train, parameters, Y_train, \"tanh\")[-7:]))\n",
    "print(\"The test accuracy rate: {}\".format(accuracy(X_test, parameters, Y_test, \"tanh\")[-7:]))"
   ]
  },
  {
   "cell_type": "markdown",
   "metadata": {},
   "source": [
    "The training accuracy is 82.30% but the test accuracy is 78%. The difference between training and test accuracy is not that much, i.e. we don't have a lot of overfitting. Therefore, a little bit of regularization may help such as $\\lambda = 0.02$. Values of $\\lambda$s that practitioners recommend are: 0.02, 0.04, 0.08, 0.16, 0.32, 0.64, 1.28, 2.56, 5.12, 10.24."
   ]
  },
  {
   "cell_type": "code",
   "execution_count": 5,
   "metadata": {
    "collapsed": true
   },
   "outputs": [
    {
     "name": "stdout",
     "output_type": "stream",
     "text": [
      "The cost after 100 iterations: 0.6558634554205135\n",
      "The cost after 200 iterations: 0.6470807090618383\n",
      "The cost after 300 iterations: 0.6449737235917311\n",
      "The cost after 400 iterations: 0.6444519406797673\n",
      "The cost after 500 iterations: 0.6443191828114609\n",
      "The cost after 600 iterations: 0.6442831256251426\n",
      "The cost after 700 iterations: 0.6442705985766486\n",
      "The cost after 800 iterations: 0.6442628048800636\n",
      "The cost after 900 iterations: 0.6442544325786784\n",
      "The cost after 1000 iterations: 0.6442432311807257\n",
      "The cost after 1100 iterations: 0.6442270988055475\n",
      "The cost after 1200 iterations: 0.6442027847231018\n",
      "The cost after 1300 iterations: 0.6441643410411311\n",
      "The cost after 1400 iterations: 0.6440998547029029\n",
      "The cost after 1500 iterations: 0.6439832000181198\n",
      "The cost after 1600 iterations: 0.6437505375793907\n",
      "The cost after 1700 iterations: 0.6432228625403317\n",
      "The cost after 1800 iterations: 0.6417982979158361\n",
      "The cost after 1900 iterations: 0.6369273437378263\n",
      "The cost after 2000 iterations: 0.6152774362019153\n",
      "The cost after 2100 iterations: 0.5207828651496548\n",
      "The cost after 2200 iterations: 0.5145012356446598\n",
      "The cost after 2300 iterations: 0.40757220705507585\n",
      "The cost after 2400 iterations: 0.517757346098386\n",
      "The cost after 2500 iterations: 0.4574831239241244\n",
      "The training accuracy rate: 65.55%.\n",
      "The test accuracy rate: 80.00%.\n"
     ]
    },
    {
     "data": {
      "image/png": "[encoded data removed]",
      "text/plain": [
       "<matplotlib.figure.Figure at 0x108cde390>"
      ]
     },
     "metadata": {},
     "output_type": "display_data"
    }
   ],
   "source": [
    "# train NN with regularization\n",
    "parameters = model_with_regularization(X_train, Y_train, layers_dims,\n",
    "                                       learning_rate=0.03, num_epochs=2500, print_cost=True,\n",
    "                                       hidden_layers_activation_fn=\"tanh\",\n",
    "                                       lambd=0.02)\n",
    "\n",
    "# print the test accuracy\n",
    "print(\"The training accuracy rate: {}\".format(accuracy(X_train, parameters, Y_train, \"tanh\")[-7:]))\n",
    "print(\"The test accuracy rate: {}\".format(accuracy(X_test, parameters, Y_test, \"tanh\")[-7:]))"
   ]
  },
  {
   "cell_type": "markdown",
   "metadata": {},
   "source": [
    "As the results above show, we improved the generalization error by increasing the test accuracy from 78% to 80%. On the other hand, training accuracy decreased from 82.30% to 65.55%."
   ]
  },
  {
   "cell_type": "markdown",
   "metadata": {
    "collapsed": true
   },
   "source": [
    "<h2 style=\"font-family: Georgia; font-size:2em;color:purple; font-style:bold\">\n",
    "Conclusion\n",
    "</h2>"
   ]
  },
  {
   "cell_type": "markdown",
   "metadata": {},
   "source": [
    "Regularization is an effective technique to resolve overfitting. Since we don't know true distribution of the data, empirical risk, which is based of empirical distribution, is prone to overfitting. Therefore, the best strategy is to fit training data really well and then use a regularization technique so that the model generalizes well. L2 parameter regularization along with Dropout are two of the most widely used regularization technique in machine learning.\n",
    "- One of the implicit assumptions of regularization techniques such as L2 and L1 parameter regularization is that the value of the parameters should be zero and try to shrink all parameters towards zero. It's meant to avoid following the training data very well which makes the learning algorithm picks some noise that is not helpful when applied on unseen data.\n",
    "- The value of $\\lambda$ should be tuned to get the best generalization error. We typically use validation set when comparing models with values for $\\lambda$s and pick the one with the lowest validation error.\n",
    "- Only use regularization if the model suffers from overfitting, i.e training error << validation error.\n",
    "- If after using regularization the validation error is still high, then we're most likely in the underfitting region. In other words, our model is still too simple and already has high bias. Therefore, add complexity to the model and then use regularization.\n",
    "- Since the majority of tasks we try to solve don't have enough data (or expensive to collect more data), overfitting will be more prevalent in Deep Learning than underfitting given the complexity of neural networks."
   ]
  }
 ],
 "metadata": {
  "kernelspec": {
   "display_name": "Python 3",
   "language": "python",
   "name": "python3"
  },
  "language_info": {
   "codemirror_mode": {
    "name": "ipython",
    "version": 3
   },
   "file_extension": ".py",
   "mimetype": "text/x-python",
   "name": "python",
   "nbconvert_exporter": "python",
   "pygments_lexer": "ipython3",
   "version": "3.6.5"
  }
 },
 "nbformat": 4,
 "nbformat_minor": 2
}
